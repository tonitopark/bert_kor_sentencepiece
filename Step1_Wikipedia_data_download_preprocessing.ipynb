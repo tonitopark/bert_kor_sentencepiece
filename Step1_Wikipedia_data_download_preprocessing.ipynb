{
 "cells": [
  {
   "cell_type": "markdown",
   "metadata": {},
   "source": [
    "# Download Wikipedia data\\\n",
    "\n",
    "\n",
    "* Korean Wikipedia data file url \n",
    "\n",
    "  https://dumps.wikimedia.org/kowiki/\n",
    "  \n",
    "   - Used data : latest/kowiki-latest-pages-articles-multistream.xml.bz2\n",
    "\n",
    "\n",
    "* Wikipedia data extractor\n",
    "\n",
    "  https://github.com/attardi/wikiextractor.git\n",
    "  "
   ]
  },
  {
   "cell_type": "markdown",
   "metadata": {},
   "source": [
    "### Download korean wiki data"
   ]
  },
  {
   "cell_type": "code",
   "execution_count": null,
   "metadata": {},
   "outputs": [],
   "source": [
    "from urllib.request import urlretrieve\n",
    "\n",
    "file_url = 'https://dumps.wikimedia.org/kowiki/latest/kowiki-latest-pages-articles-multistream.xml.bz2'\n",
    "file_path =  'data/kowiki-latest-pages-articles-multistream.xml_new.bz2'\n",
    "# download the file'\n",
    "urlretrieve(file_url,file_path)\n"
   ]
  },
  {
   "cell_type": "markdown",
   "metadata": {},
   "source": [
    "### Extract Wiki data\n",
    "\n",
    "  Takes approximately 1hour.\n",
    "  https://github.com/attardi/wikiextractor.git"
   ]
  },
  {
   "cell_type": "code",
   "execution_count": null,
   "metadata": {},
   "outputs": [],
   "source": [
    "import subprocess\n",
    "\n",
    "extractor_path = '/home/tony/PycharmProjects/wikiextractor/WikiExtractor.py'\n",
    "extract_path = 'wiki_kor_new'\n",
    "\n",
    "subprocess.call(['python3',extractor_path,file_path, \"-o={}\".format(extract_path)])"
   ]
  },
  {
   "cell_type": "markdown",
   "metadata": {},
   "source": [
    "# Preprocess the Text\n",
    "\n",
    "* 1-1. Remove blank lines.\n",
    "* 1-2. Remove <doc id ... line and its next line (title of an article).\n",
    "* 1-3. Replace </doc> line with a blank line.\n",
    "* 2-1. Remove spaces at the end of each line.\n",
    "* 2-2. Break line at each 。, but not at 。」 or 。）, position.\n",
    "* 2-3. Remove spaces at the head of each line.\n",
    "* 3. Remove lines with the head 。(these lines are not meaningful).\n",
    "* 4. Convert upper case characters to lower case ones.\n",
    "\n"
   ]
  },
  {
   "cell_type": "code",
   "execution_count": null,
   "metadata": {},
   "outputs": [],
   "source": [
    "# Input file format:\n",
    "# (1) One sentence per line. These should ideally be actual sentences, not\n",
    "# entire paragraphs or arbitrary spans of text. (Because we use the\n",
    "# sentence boundaries for the \"next sentence prediction\" task).\n",
    "# (2) Blank lines between documents. Document boundaries are needed so\n",
    "# that the \"next sentence prediction\" task doesn't span between documents"
   ]
  },
  {
   "cell_type": "code",
   "execution_count": null,
   "metadata": {},
   "outputs": [],
   "source": [
    "#!/usr/bin/env bash\n",
    "\n",
    "# Read data_text_dir path from a config file.\n",
    "CURDIR=$(cd $(dirname $0); pwd)\n",
    "source <(sed -n '/^\\[DATA\\]/,/^\\[/p' ${CURDIR}/../config.ini | grep TEXTDIR | sed 's/ *= */=/g')\n",
    "\n",
    "#Text preprocessing\n",
    "\n",
    "for FILE in $( find ${TEXTDIR} -name \"wiki_*\" ); do\n",
    "    echo \"Processing ${FILE}\"\n",
    "    sed -i -e '/^$/d; /<doc id/,+1d; s/<\\/doc>//g' ${FILE}\n",
    "    sed -i -e 's/ *$//g; s/。\\([^」|)|）|\"]\\)/。\\n\\1/g; s/^[ ]*//g' ${FILE}\n",
    "    sed -i -e '/^。/d' ${FILE}\n",
    "    sed -i -e 's/\\(.*\\)/\\L\\1/' ${FILE}\n",
    "done\n",
    "\n",
    "# Concat all text files in each text directory.\n",
    "for DIR in $( find ${TEXTDIR} -mindepth 1 -type d ); do\n",
    "    echo \"Processing ${DIR}\"\n",
    "    for f in $( find ${DIR} -name \"wiki_*\" ); do cat $f >> ${DIR}/all.txt; done \n",
    "done"
   ]
  }
 ],
 "metadata": {
  "kernelspec": {
   "display_name": "Python 3",
   "language": "python",
   "name": "python3"
  },
  "language_info": {
   "codemirror_mode": {
    "name": "ipython",
    "version": 3
   },
   "file_extension": ".py",
   "mimetype": "text/x-python",
   "name": "python",
   "nbconvert_exporter": "python",
   "pygments_lexer": "ipython3",
   "version": "3.6.7"
  }
 },
 "nbformat": 4,
 "nbformat_minor": 2
}
